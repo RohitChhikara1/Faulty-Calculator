{
 "cells": [
  {
   "cell_type": "markdown",
   "id": "005a90ac",
   "metadata": {},
   "source": [
    "## Code for a Personal Faulty  Calculate: \n",
    "### Which is useful to make all calculations right except some special cases like as: \n",
    "### 2*3 = 8, 88/24 = 2, 79+27 = 99, 89-74=56."
   ]
  },
  {
   "cell_type": "code",
   "execution_count": 25,
   "id": "690caf5c",
   "metadata": {},
   "outputs": [
    {
     "name": "stdout",
     "output_type": "stream",
     "text": [
      "FIRST INPUT 0\n",
      "Useful operators: +, -, /, *, **,%\n",
      "-\n",
      "SECOND INPUT 0\n",
      "Solution :  0\n"
     ]
    }
   ],
   "source": [
    "num1 = int(input(\"FIRST INPUT \"))\n",
    "print(\"Useful operators: +, -, /, *, **,%\")\n",
    "num3 = input()\n",
    "num2 = int(input(\"SECOND INPUT \"))\n",
    "\n",
    "if num1 == 2 and num2 == 3 and num3 == \"*\":\n",
    "      print (\"Solution : 8\")\n",
    "elif num1 == 88 and num2 == 24 and num3 == \"/\":\n",
    "      print(\"Solution : 2\")\n",
    "elif num1 == 79 and num2 == 27 and num3 == \"+\":\n",
    "      print(\"Solution : 99\")\n",
    "elif num1 ==89 and num2 == 74 and num3 == \"-\":\n",
    "      print(\"Solution : 56\")\n",
    "elif num3 == \"+\":\n",
    "      num4 = num1+num2\n",
    "      print(\"Solution : \",num4)\n",
    "elif num3 == \"-\":\n",
    "      num4 = num1-num2\n",
    "      print(\"Solution : \",num4)\n",
    "elif num3 == \"*\":\n",
    "      num4 = num1*num2\n",
    "      print(\"Solution : \",num4)\n",
    "elif num3 ==\"/\":\n",
    "      num4 = num1/num2\n",
    "      print(\"Solution : \",num4)\n",
    "elif num3 == \"**\":\n",
    "      num4 = num1**num2\n",
    "      print(\"Solution : \",num4)\n",
    "elif num3 ==\"%\":\n",
    "      num4 = num1%num2\n",
    "      print(\"Solution : \",num4)\n",
    "else:\n",
    "      print(\"Error404\")"
   ]
  }
 ],
 "metadata": {
  "kernelspec": {
   "display_name": "Python 3 (ipykernel)",
   "language": "python",
   "name": "python3"
  },
  "language_info": {
   "codemirror_mode": {
    "name": "ipython",
    "version": 3
   },
   "file_extension": ".py",
   "mimetype": "text/x-python",
   "name": "python",
   "nbconvert_exporter": "python",
   "pygments_lexer": "ipython3",
   "version": "3.11.4"
  }
 },
 "nbformat": 4,
 "nbformat_minor": 5
}
